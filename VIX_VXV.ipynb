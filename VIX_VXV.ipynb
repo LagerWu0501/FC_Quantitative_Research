{
 "cells": [
  {
   "cell_type": "code",
   "execution_count": 46,
   "metadata": {},
   "outputs": [],
   "source": [
    "import numpy as np\n",
    "import pandas as pd\n",
    "\n",
    "import plotly.graph_objects as go\n",
    "from plotly.subplots import make_subplots\n",
    "\n",
    "from matplotlib import pyplot as plt\n",
    "\n",
    "import http\n",
    "import requests\n",
    "import yfinance as yf"
   ]
  },
  {
   "cell_type": "code",
   "execution_count": 47,
   "metadata": {},
   "outputs": [],
   "source": [
    "api_key = \"b5569108b07766dcb23028a5de53e385\""
   ]
  },
  {
   "cell_type": "code",
   "execution_count": 48,
   "metadata": {},
   "outputs": [],
   "source": [
    "# This is how we get the series_id\n",
    "\n",
    "# request_for_allReleases = f\"https://api.stlouisfed.org/fred/series/search?search_text=volatility+index&api_key={api_key}&file_type=json\"\n",
    "# data = requests.get(request_for_allReleases).json()\n",
    "# data"
   ]
  },
  {
   "cell_type": "code",
   "execution_count": 49,
   "metadata": {},
   "outputs": [],
   "source": [
    "request_for_VIX = f\"https://api.stlouisfed.org/fred/series/observations?series_id=VIXCLS&api_key={api_key}&file_type=json\"\n",
    "vix_data = requests.get(request_for_VIX).json()\n",
    "\n",
    "request_for_VXV = f\"https://api.stlouisfed.org/fred/series/observations?series_id=VXVCLS&api_key={api_key}&file_type=json\"\n",
    "vxv_data = requests.get(request_for_VXV).json()"
   ]
  },
  {
   "cell_type": "code",
   "execution_count": 50,
   "metadata": {},
   "outputs": [],
   "source": [
    "vix_value = []\n",
    "vix_date = []\n",
    "for data in vix_data[\"observations\"]:\n",
    "    if (data[\"value\"] != \".\"):\n",
    "        vix_value.append(float(data[\"value\"]))\n",
    "        vix_date.append(data[\"date\"])\n",
    "\n",
    "vxv_value = []\n",
    "vxv_date = []\n",
    "for data in vxv_data[\"observations\"]:\n",
    "    if (data[\"value\"] != \".\"):\n",
    "        vxv_value.append(float(data[\"value\"]))\n",
    "        vxv_date.append(data[\"date\"])\n",
    "\n",
    "\n",
    "offset = len(vix_value) - len(vxv_value)"
   ]
  },
  {
   "cell_type": "code",
   "execution_count": 51,
   "metadata": {},
   "outputs": [
    {
     "data": {
      "text/plain": [
       "array([-0.86, -0.8 , -1.14, ..., -0.6 , -0.88, -0.27])"
      ]
     },
     "execution_count": 51,
     "metadata": {},
     "output_type": "execute_result"
    }
   ],
   "source": [
    "vix_value = vix_value[offset - 4:]\n",
    "vix_date = vix_date[offset - 4:]\n",
    "\n",
    "for i in range(len(vix_date)):\n",
    "    if (i < len(vxv_date) and vix_date[i] != vxv_date[i]):\n",
    "        vix_value.remove(vix_value[i])\n",
    "        vix_date.remove(vix_date[i])\n",
    "\n",
    "        i -= 1\n",
    "\n",
    "vix_value = np.array(vix_value)\n",
    "vxv_value = np.array(vxv_value)\n",
    "vix_value.shape, vxv_value.shape\n",
    "\n",
    "signal = vix_value - vxv_value\n",
    "signal"
   ]
  },
  {
   "cell_type": "code",
   "execution_count": 52,
   "metadata": {},
   "outputs": [
    {
     "data": {
      "text/plain": [
       "('2007-12-04', '2022-10-06')"
      ]
     },
     "execution_count": 52,
     "metadata": {},
     "output_type": "execute_result"
    }
   ],
   "source": [
    "vxv_date[0], vxv_date[-1]"
   ]
  },
  {
   "cell_type": "code",
   "execution_count": 53,
   "metadata": {},
   "outputs": [
    {
     "name": "stdout",
     "output_type": "stream",
     "text": [
      "[*********************100%***********************]  1 of 1 completed\n",
      "[*********************100%***********************]  1 of 1 completed\n"
     ]
    }
   ],
   "source": [
    "symbol = '^GSPC'\n",
    "df = yf.download(symbol, start=\"2007-12-05\", end=\"2022-10-07\")\n",
    "SP500 = df[\"Close\"].to_numpy()\n",
    "\n",
    "symbol = 'IEF'\n",
    "df = yf.download(symbol, start=\"2007-12-05\", end=\"2022-10-07\")\n",
    "IEF = df[\"Adj Close\"].to_numpy()"
   ]
  },
  {
   "cell_type": "code",
   "execution_count": 54,
   "metadata": {},
   "outputs": [
    {
     "name": "stdout",
     "output_type": "stream",
     "text": [
      "vix value: (3737,)\n",
      "vxv value: (3737,)\n",
      "vix date: 3737\n",
      "vxv date: 3737\n",
      "S&P500: (3737,)\n",
      "IEF: (3737,)\n"
     ]
    }
   ],
   "source": [
    "print(\"vix value:\", vix_value.shape)\n",
    "print(\"vxv value:\", vxv_value.shape)\n",
    "print(\"vix date:\", len(vix_date))\n",
    "print(\"vxv date:\", len(vxv_date))\n",
    "print(\"S&P500:\", SP500.shape)\n",
    "print(\"IEF:\", IEF.shape)"
   ]
  },
  {
   "cell_type": "code",
   "execution_count": 55,
   "metadata": {},
   "outputs": [],
   "source": [
    "date = df.index.to_numpy()"
   ]
  },
  {
   "cell_type": "code",
   "execution_count": 56,
   "metadata": {},
   "outputs": [],
   "source": [
    "new_signal = signal > 0\n",
    "new_signal = np.diff(new_signal.astype(int))\n",
    "new_signal = np.insert(new_signal, 0, 0.0, axis = 0)\n",
    "# print(new_signal.tolist())\n",
    "# for i in range(1, len(new_signal) + 1):\n",
    "#     print(i, new_signal[i - 1])"
   ]
  },
  {
   "cell_type": "code",
   "execution_count": 57,
   "metadata": {},
   "outputs": [],
   "source": [
    "init_money = 1000\n",
    "init_storage = 0.0\n",
    "fee_rate = 0.001\n",
    "money_profit = 0.0002"
   ]
  },
  {
   "cell_type": "code",
   "execution_count": 58,
   "metadata": {},
   "outputs": [],
   "source": [
    "def trade(money, storage, side, price):\n",
    "    if side == -1:\n",
    "        storage += money / (price * (1 + fee_rate))\n",
    "        money -= money\n",
    "    elif side == 1:\n",
    "        money += storage * price * (1 - fee_rate)\n",
    "        storage -= storage\n",
    "    return money, storage\n"
   ]
  },
  {
   "cell_type": "code",
   "execution_count": 59,
   "metadata": {},
   "outputs": [],
   "source": [
    "money = init_money\n",
    "storage = init_storage\n",
    "\n",
    "\n",
    "aggregate_profits = []\n",
    "trade(money, storage, -1, SP500[0])\n",
    "for i in range(len(SP500)):\n",
    "    money, storage = trade(money, storage, new_signal[i], SP500[i])\n",
    "    aggregate_profits.append((money * (1 + money_profit) + storage * SP500[i] - init_money) / init_money)\n",
    "aggregate_profits = np.array(aggregate_profits)"
   ]
  },
  {
   "cell_type": "code",
   "execution_count": 60,
   "metadata": {},
   "outputs": [],
   "source": [
    "year_num = len(vxv_date) / 260"
   ]
  },
  {
   "cell_type": "code",
   "execution_count": 61,
   "metadata": {},
   "outputs": [
    {
     "name": "stdout",
     "output_type": "stream",
     "text": [
      "APY: 50.68738718879695\n",
      "Aggregate 36267.11581253098\n"
     ]
    },
    {
     "data": {
      "image/png": "[encoded data removed]",
      "text/plain": [
       "<Figure size 640x480 with 1 Axes>"
      ]
     },
     "metadata": {},
     "output_type": "display_data"
    }
   ],
   "source": [
    "print(\"APY:\", (aggregate_profits[-1] ** (1 / year_num) - 1) * 100)\n",
    "print(\"Aggregate\", aggregate_profits[-1] * 100)\n",
    "plt.plot(aggregate_profits)\n",
    "plt.show()"
   ]
  },
  {
   "cell_type": "code",
   "execution_count": 63,
   "metadata": {},
   "outputs": [
    {
     "data": {
      "text/plain": [
       "[<matplotlib.lines.Line2D at 0x12a8a8b50>]"
      ]
     },
     "execution_count": 63,
     "metadata": {},
     "output_type": "execute_result"
    },
    {
     "data": {
      "image/png": "[encoded data removed]",
      "text/plain": [
       "<Figure size 640x480 with 1 Axes>"
      ]
     },
     "metadata": {},
     "output_type": "display_data"
    }
   ],
   "source": [
    "plt.plot(SP500)"
   ]
  },
  {
   "cell_type": "code",
   "execution_count": 62,
   "metadata": {},
   "outputs": [],
   "source": [
    "# window_size = 260\n",
    "# off = 260\n",
    "# start = 0\n",
    "\n",
    "# profit = []\n",
    "# while start + window_size < vix_value.shape[0]:\n",
    "#     money = init_money\n",
    "#     storage = init_storage\n",
    "\n",
    "#     local_signal = new_signal[start:start + window_size] != 0\n",
    "#     local_SP500 = SP500[start:start + window_size][local_signal]\n",
    "#     local_signal = (new_signal[start:start + window_size])[local_signal]\n",
    "\n",
    "#     trade(money, storage, -1, SP500[start])\n",
    "\n",
    "#     for i in range(len(local_signal)):\n",
    "#         money, storage = trade(money, storage, local_signal[i], local_SP500[i])\n",
    "\n",
    "#     profit.append((money + storage * SP500[start + window_size - 1] - init_money) / init_money)\n",
    "\n",
    "#     start += off"
   ]
  }
 ],
 "metadata": {
  "kernelspec": {
   "display_name": "Python 3.10.6 64-bit",
   "language": "python",
   "name": "python3"
  },
  "language_info": {
   "codemirror_mode": {
    "name": "ipython",
    "version": 3
   },
   "file_extension": ".py",
   "mimetype": "text/x-python",
   "name": "python",
   "nbconvert_exporter": "python",
   "pygments_lexer": "ipython3",
   "version": "3.10.6"
  },
  "orig_nbformat": 4,
  "vscode": {
   "interpreter": {
    "hash": "b0fa6594d8f4cbf19f97940f81e996739fb7646882a419484c72d19e05852a7e"
   }
  }
 },
 "nbformat": 4,
 "nbformat_minor": 2
}
